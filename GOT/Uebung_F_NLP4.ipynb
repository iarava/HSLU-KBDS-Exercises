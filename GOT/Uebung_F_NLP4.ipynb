{
 "cells": [
  {
   "cell_type": "markdown",
   "metadata": {},
   "source": [
    "# Thrones2Vec"
   ]
  },
  {
   "cell_type": "markdown",
   "metadata": {},
   "source": [
    "© Yuriy Guts, 2016"
   ]
  },
  {
   "cell_type": "markdown",
   "metadata": {},
   "source": [
    "Using only the raw text of [A Song of Ice and Fire](https://en.wikipedia.org/wiki/A_Song_of_Ice_and_Fire), we'll derive and explore the semantic properties of its words."
   ]
  },
  {
   "cell_type": "markdown",
   "metadata": {},
   "source": [
    "## Imports"
   ]
  },
  {
   "cell_type": "code",
   "execution_count": 27,
   "metadata": {},
   "outputs": [],
   "source": [
    "from __future__ import absolute_import, division, print_function"
   ]
  },
  {
   "cell_type": "code",
   "execution_count": 28,
   "metadata": {},
   "outputs": [],
   "source": [
    "import codecs\n",
    "import glob\n",
    "import logging\n",
    "import multiprocessing\n",
    "import os\n",
    "import pprint\n",
    "import re"
   ]
  },
  {
   "cell_type": "code",
   "execution_count": 29,
   "metadata": {},
   "outputs": [],
   "source": [
    "import nltk\n",
    "import gensim.models.word2vec as w2v\n",
    "import sklearn.manifold\n",
    "import numpy as np\n",
    "import matplotlib.pyplot as plt\n",
    "import pandas as pd\n",
    "import seaborn as sns"
   ]
  },
  {
   "cell_type": "code",
   "execution_count": 30,
   "metadata": {},
   "outputs": [
    {
     "name": "stdout",
     "output_type": "stream",
     "text": [
      "Populating the interactive namespace from numpy and matplotlib\n"
     ]
    },
    {
     "name": "stderr",
     "output_type": "stream",
     "text": [
      "C:\\Users\\lucar\\Anaconda3\\lib\\site-packages\\IPython\\core\\magics\\pylab.py:160: UserWarning: pylab import has clobbered these variables: ['seed']\n",
      "`%matplotlib` prevents importing * from pylab and numpy\n",
      "  \"\\n`%matplotlib` prevents importing * from pylab and numpy\"\n"
     ]
    }
   ],
   "source": [
    "%pylab inline"
   ]
  },
  {
   "cell_type": "markdown",
   "metadata": {},
   "source": [
    "**Set up logging**"
   ]
  },
  {
   "cell_type": "code",
   "execution_count": 31,
   "metadata": {},
   "outputs": [],
   "source": [
    "logging.basicConfig(format='%(asctime)s : %(levelname)s : %(message)s', level=logging.INFO)"
   ]
  },
  {
   "cell_type": "markdown",
   "metadata": {
    "collapsed": true
   },
   "source": [
    "**Download NLTK tokenizer models (only the first time)**"
   ]
  },
  {
   "cell_type": "code",
   "execution_count": 32,
   "metadata": {},
   "outputs": [
    {
     "name": "stderr",
     "output_type": "stream",
     "text": [
      "[nltk_data] Downloading package punkt to\n",
      "[nltk_data]     C:\\Users\\lucar\\AppData\\Roaming\\nltk_data...\n",
      "[nltk_data]   Package punkt is already up-to-date!\n",
      "[nltk_data] Downloading package stopwords to\n",
      "[nltk_data]     C:\\Users\\lucar\\AppData\\Roaming\\nltk_data...\n",
      "[nltk_data]   Package stopwords is already up-to-date!\n"
     ]
    },
    {
     "data": {
      "text/plain": [
       "True"
      ]
     },
     "execution_count": 32,
     "metadata": {},
     "output_type": "execute_result"
    }
   ],
   "source": [
    "nltk.download(\"punkt\")\n",
    "nltk.download(\"stopwords\")"
   ]
  },
  {
   "cell_type": "markdown",
   "metadata": {},
   "source": [
    "## Prepare Corpus"
   ]
  },
  {
   "cell_type": "markdown",
   "metadata": {},
   "source": [
    "**Load books from files**"
   ]
  },
  {
   "cell_type": "code",
   "execution_count": 33,
   "metadata": {},
   "outputs": [],
   "source": [
    "book_filenames = sorted(glob.glob(\"data/*.txt\"))"
   ]
  },
  {
   "cell_type": "code",
   "execution_count": 34,
   "metadata": {},
   "outputs": [
    {
     "name": "stdout",
     "output_type": "stream",
     "text": [
      "Found books:\n"
     ]
    },
    {
     "data": {
      "text/plain": [
       "['data\\\\got1.txt',\n",
       " 'data\\\\got2.txt',\n",
       " 'data\\\\got3.txt',\n",
       " 'data\\\\got4.txt',\n",
       " 'data\\\\got5.txt']"
      ]
     },
     "execution_count": 34,
     "metadata": {},
     "output_type": "execute_result"
    }
   ],
   "source": [
    "print(\"Found books:\")\n",
    "book_filenames"
   ]
  },
  {
   "cell_type": "markdown",
   "metadata": {},
   "source": [
    "**Combine the books into one string**"
   ]
  },
  {
   "cell_type": "code",
   "execution_count": 35,
   "metadata": {},
   "outputs": [
    {
     "name": "stdout",
     "output_type": "stream",
     "text": [
      "Reading 'data\\got1.txt'...\n",
      "Corpus is now 1770659 characters long\n",
      "\n",
      "Reading 'data\\got2.txt'...\n",
      "Corpus is now 4071041 characters long\n",
      "\n",
      "Reading 'data\\got3.txt'...\n",
      "Corpus is now 6391405 characters long\n",
      "\n",
      "Reading 'data\\got4.txt'...\n",
      "Corpus is now 8107945 characters long\n",
      "\n",
      "Reading 'data\\got5.txt'...\n",
      "Corpus is now 9719485 characters long\n",
      "\n"
     ]
    }
   ],
   "source": [
    "corpus_raw = u\"\"\n",
    "for book_filename in book_filenames:\n",
    "    print(\"Reading '{0}'...\".format(book_filename))\n",
    "    with codecs.open(book_filename, \"r\", \"utf-8\") as book_file:\n",
    "        corpus_raw += book_file.read()\n",
    "    print(\"Corpus is now {0} characters long\".format(len(corpus_raw)))\n",
    "    print()"
   ]
  },
  {
   "cell_type": "markdown",
   "metadata": {},
   "source": [
    "**Split the corpus into sentences**"
   ]
  },
  {
   "cell_type": "code",
   "execution_count": 36,
   "metadata": {},
   "outputs": [],
   "source": [
    "tokenizer = nltk.data.load('tokenizers/punkt/english.pickle')"
   ]
  },
  {
   "cell_type": "code",
   "execution_count": 37,
   "metadata": {},
   "outputs": [],
   "source": [
    "raw_sentences = tokenizer.tokenize(corpus_raw)"
   ]
  },
  {
   "cell_type": "code",
   "execution_count": 38,
   "metadata": {},
   "outputs": [],
   "source": [
    "#convert into a list of words\n",
    "#rtemove unnnecessary,, split into words, no hyphens\n",
    "#list of words\n",
    "def sentence_to_wordlist(raw):\n",
    "    clean = re.sub(\"[^a-zA-Z]\",\" \", raw)\n",
    "    words = clean.split()\n",
    "    return words"
   ]
  },
  {
   "cell_type": "code",
   "execution_count": 39,
   "metadata": {},
   "outputs": [],
   "source": [
    "#sentence where each word is tokenized\n",
    "sentences = []\n",
    "for raw_sentence in raw_sentences:\n",
    "    if len(raw_sentence) > 0:\n",
    "        sentences.append(sentence_to_wordlist(raw_sentence))"
   ]
  },
  {
   "cell_type": "code",
   "execution_count": 40,
   "metadata": {},
   "outputs": [
    {
     "name": "stdout",
     "output_type": "stream",
     "text": [
      "Heraldic crest by Virginia Norey.\n",
      "['Heraldic', 'crest', 'by', 'Virginia', 'Norey']\n"
     ]
    }
   ],
   "source": [
    "print(raw_sentences[5])\n",
    "print(sentence_to_wordlist(raw_sentences[5]))"
   ]
  },
  {
   "cell_type": "code",
   "execution_count": 41,
   "metadata": {},
   "outputs": [
    {
     "name": "stdout",
     "output_type": "stream",
     "text": [
      "The book corpus contains 1,818,103 tokens\n"
     ]
    }
   ],
   "source": [
    "token_count = sum([len(sentence) for sentence in sentences])\n",
    "print(\"The book corpus contains {0:,} tokens\".format(token_count))"
   ]
  },
  {
   "cell_type": "markdown",
   "metadata": {},
   "source": [
    "## Train Word2Vec"
   ]
  },
  {
   "cell_type": "code",
   "execution_count": 42,
   "metadata": {},
   "outputs": [],
   "source": [
    "#ONCE we have vectors\n",
    "#step 3 - build model\n",
    "#3 main tasks that vectors help with\n",
    "#DISTANCE, SIMILARITY, RANKING\n",
    "\n",
    "# Dimensionality of the resulting word vectors.\n",
    "#more dimensions, more computationally expensive to train\n",
    "#but also more accurate\n",
    "#more dimensions = more generalized\n",
    "num_features = 200\n",
    "#num_features = 300\n",
    "# Minimum word count threshold.\n",
    "min_word_count = 3\n",
    "\n",
    "# Number of threads to run in parallel.\n",
    "#more workers, faster we train\n",
    "num_workers = multiprocessing.cpu_count()\n",
    "\n",
    "# Context window length.\n",
    "context_size = 5\n",
    "#context_size = 7\n",
    "\n",
    "# Downsample setting for frequent words.\n",
    "#0 - 1e-5 is good for this\n",
    "downsampling = 1e-3\n",
    "\n",
    "# Seed for the RNG, to make the results reproducible.\n",
    "#random number generator\n",
    "#deterministic, good for debugging\n",
    "seed = 1"
   ]
  },
  {
   "cell_type": "code",
   "execution_count": 43,
   "metadata": {},
   "outputs": [],
   "source": [
    "thrones2vec = w2v.Word2Vec(\n",
    "    sg=1,\n",
    "    seed=seed,\n",
    "    workers=num_workers,\n",
    "    size=num_features,\n",
    "    min_count=min_word_count,\n",
    "    window=context_size,\n",
    "    sample=downsampling\n",
    ")"
   ]
  },
  {
   "cell_type": "code",
   "execution_count": 44,
   "metadata": {},
   "outputs": [
    {
     "name": "stderr",
     "output_type": "stream",
     "text": [
      "2019-11-08 10:27:56,736 : INFO : collecting all words and their counts\n",
      "2019-11-08 10:27:56,737 : INFO : PROGRESS: at sentence #0, processed 0 words, keeping 0 word types\n",
      "2019-11-08 10:27:56,782 : INFO : PROGRESS: at sentence #10000, processed 140984 words, keeping 10280 word types\n",
      "2019-11-08 10:27:56,823 : INFO : PROGRESS: at sentence #20000, processed 279730 words, keeping 13558 word types\n",
      "2019-11-08 10:27:56,866 : INFO : PROGRESS: at sentence #30000, processed 420336 words, keeping 16598 word types\n",
      "2019-11-08 10:27:56,907 : INFO : PROGRESS: at sentence #40000, processed 556581 words, keeping 18324 word types\n",
      "2019-11-08 10:27:56,945 : INFO : PROGRESS: at sentence #50000, processed 686247 words, keeping 19714 word types\n",
      "2019-11-08 10:27:56,988 : INFO : PROGRESS: at sentence #60000, processed 828497 words, keeping 21672 word types\n",
      "2019-11-08 10:27:57,033 : INFO : PROGRESS: at sentence #70000, processed 973830 words, keeping 23093 word types\n",
      "2019-11-08 10:27:57,078 : INFO : PROGRESS: at sentence #80000, processed 1114967 words, keeping 24252 word types\n",
      "2019-11-08 10:27:57,122 : INFO : PROGRESS: at sentence #90000, processed 1260481 words, keeping 26007 word types\n",
      "2019-11-08 10:27:57,163 : INFO : PROGRESS: at sentence #100000, processed 1393203 words, keeping 26884 word types\n",
      "2019-11-08 10:27:57,205 : INFO : PROGRESS: at sentence #110000, processed 1532150 words, keeping 27809 word types\n",
      "2019-11-08 10:27:57,250 : INFO : PROGRESS: at sentence #120000, processed 1680961 words, keeping 28486 word types\n",
      "2019-11-08 10:27:57,290 : INFO : collected 29026 word types from a corpus of 1818103 raw words and 128868 sentences\n",
      "2019-11-08 10:27:57,291 : INFO : Loading a fresh vocabulary\n",
      "2019-11-08 10:27:57,416 : INFO : effective_min_count=3 retains 17277 unique words (59% of original 29026, drops 11749)\n",
      "2019-11-08 10:27:57,417 : INFO : effective_min_count=3 leaves 1802699 word corpus (99% of original 1818103, drops 15404)\n",
      "2019-11-08 10:27:57,482 : INFO : deleting the raw counts dictionary of 29026 items\n",
      "2019-11-08 10:27:57,483 : INFO : sample=0.001 downsamples 50 most-common words\n",
      "2019-11-08 10:27:57,484 : INFO : downsampling leaves estimated 1404424 word corpus (77.9% of prior 1802699)\n",
      "2019-11-08 10:27:57,548 : INFO : estimated required memory for 17277 words and 200 dimensions: 36281700 bytes\n",
      "2019-11-08 10:27:57,549 : INFO : resetting layer weights\n"
     ]
    }
   ],
   "source": [
    "thrones2vec.build_vocab(sentences)"
   ]
  },
  {
   "cell_type": "code",
   "execution_count": 45,
   "metadata": {
    "scrolled": true
   },
   "outputs": [
    {
     "name": "stdout",
     "output_type": "stream",
     "text": [
      "Word2Vec vocabulary length: 17277\n"
     ]
    }
   ],
   "source": [
    "print(\"Word2Vec vocabulary length:\", len(thrones2vec.wv.vocab))"
   ]
  },
  {
   "cell_type": "markdown",
   "metadata": {},
   "source": [
    "**Start training, this might take a minute or two...**"
   ]
  },
  {
   "cell_type": "code",
   "execution_count": 46,
   "metadata": {},
   "outputs": [
    {
     "name": "stderr",
     "output_type": "stream",
     "text": [
      "2019-11-08 10:27:57,893 : INFO : training model with 12 workers on 17277 vocabulary and 200 features, using sg=1 hs=0 sample=0.001 negative=5 window=5\n",
      "2019-11-08 10:27:58,914 : INFO : EPOCH 1 - PROGRESS: at 36.79% words, 513842 words/s, in_qsize 22, out_qsize 1\n",
      "2019-11-08 10:27:59,931 : INFO : EPOCH 1 - PROGRESS: at 79.09% words, 548891 words/s, in_qsize 23, out_qsize 0\n",
      "2019-11-08 10:28:00,260 : INFO : worker thread finished; awaiting finish of 11 more threads\n",
      "2019-11-08 10:28:00,273 : INFO : worker thread finished; awaiting finish of 10 more threads\n",
      "2019-11-08 10:28:00,275 : INFO : worker thread finished; awaiting finish of 9 more threads\n",
      "2019-11-08 10:28:00,306 : INFO : worker thread finished; awaiting finish of 8 more threads\n",
      "2019-11-08 10:28:00,319 : INFO : worker thread finished; awaiting finish of 7 more threads\n",
      "2019-11-08 10:28:00,329 : INFO : worker thread finished; awaiting finish of 6 more threads\n",
      "2019-11-08 10:28:00,331 : INFO : worker thread finished; awaiting finish of 5 more threads\n",
      "2019-11-08 10:28:00,340 : INFO : worker thread finished; awaiting finish of 4 more threads\n",
      "2019-11-08 10:28:00,341 : INFO : worker thread finished; awaiting finish of 3 more threads\n",
      "2019-11-08 10:28:00,362 : INFO : worker thread finished; awaiting finish of 2 more threads\n",
      "2019-11-08 10:28:00,371 : INFO : worker thread finished; awaiting finish of 1 more threads\n",
      "2019-11-08 10:28:00,376 : INFO : worker thread finished; awaiting finish of 0 more threads\n",
      "2019-11-08 10:28:00,377 : INFO : EPOCH - 1 : training on 1818103 raw words (1403783 effective words) took 2.5s, 568331 effective words/s\n",
      "2019-11-08 10:28:01,409 : INFO : EPOCH 2 - PROGRESS: at 34.59% words, 479103 words/s, in_qsize 24, out_qsize 0\n",
      "2019-11-08 10:28:02,444 : INFO : EPOCH 2 - PROGRESS: at 77.44% words, 530586 words/s, in_qsize 23, out_qsize 0\n",
      "2019-11-08 10:28:02,809 : INFO : worker thread finished; awaiting finish of 11 more threads\n",
      "2019-11-08 10:28:02,819 : INFO : worker thread finished; awaiting finish of 10 more threads\n",
      "2019-11-08 10:28:02,833 : INFO : worker thread finished; awaiting finish of 9 more threads\n",
      "2019-11-08 10:28:02,851 : INFO : worker thread finished; awaiting finish of 8 more threads\n",
      "2019-11-08 10:28:02,856 : INFO : worker thread finished; awaiting finish of 7 more threads\n",
      "2019-11-08 10:28:02,861 : INFO : worker thread finished; awaiting finish of 6 more threads\n",
      "2019-11-08 10:28:02,870 : INFO : worker thread finished; awaiting finish of 5 more threads\n",
      "2019-11-08 10:28:02,872 : INFO : worker thread finished; awaiting finish of 4 more threads\n",
      "2019-11-08 10:28:02,895 : INFO : worker thread finished; awaiting finish of 3 more threads\n",
      "2019-11-08 10:28:02,896 : INFO : worker thread finished; awaiting finish of 2 more threads\n",
      "2019-11-08 10:28:02,901 : INFO : worker thread finished; awaiting finish of 1 more threads\n",
      "2019-11-08 10:28:02,910 : INFO : worker thread finished; awaiting finish of 0 more threads\n",
      "2019-11-08 10:28:02,910 : INFO : EPOCH - 2 : training on 1818103 raw words (1404222 effective words) took 2.5s, 557871 effective words/s\n",
      "2019-11-08 10:28:03,932 : INFO : EPOCH 3 - PROGRESS: at 36.24% words, 507060 words/s, in_qsize 24, out_qsize 0\n",
      "2019-11-08 10:28:04,960 : INFO : EPOCH 3 - PROGRESS: at 76.89% words, 532008 words/s, in_qsize 24, out_qsize 1\n",
      "2019-11-08 10:28:05,349 : INFO : worker thread finished; awaiting finish of 11 more threads\n",
      "2019-11-08 10:28:05,352 : INFO : worker thread finished; awaiting finish of 10 more threads\n",
      "2019-11-08 10:28:05,360 : INFO : worker thread finished; awaiting finish of 9 more threads\n",
      "2019-11-08 10:28:05,363 : INFO : worker thread finished; awaiting finish of 8 more threads\n",
      "2019-11-08 10:28:05,388 : INFO : worker thread finished; awaiting finish of 7 more threads\n",
      "2019-11-08 10:28:05,400 : INFO : worker thread finished; awaiting finish of 6 more threads\n",
      "2019-11-08 10:28:05,408 : INFO : worker thread finished; awaiting finish of 5 more threads\n",
      "2019-11-08 10:28:05,409 : INFO : worker thread finished; awaiting finish of 4 more threads\n",
      "2019-11-08 10:28:05,429 : INFO : worker thread finished; awaiting finish of 3 more threads\n",
      "2019-11-08 10:28:05,438 : INFO : worker thread finished; awaiting finish of 2 more threads\n",
      "2019-11-08 10:28:05,441 : INFO : worker thread finished; awaiting finish of 1 more threads\n",
      "2019-11-08 10:28:05,442 : INFO : worker thread finished; awaiting finish of 0 more threads\n",
      "2019-11-08 10:28:05,443 : INFO : EPOCH - 3 : training on 1818103 raw words (1404764 effective words) took 2.5s, 558198 effective words/s\n",
      "2019-11-08 10:28:06,476 : INFO : EPOCH 4 - PROGRESS: at 34.59% words, 479122 words/s, in_qsize 23, out_qsize 0\n",
      "2019-11-08 10:28:07,504 : INFO : EPOCH 4 - PROGRESS: at 76.89% words, 529097 words/s, in_qsize 23, out_qsize 0\n",
      "2019-11-08 10:28:07,878 : INFO : worker thread finished; awaiting finish of 11 more threads\n",
      "2019-11-08 10:28:07,886 : INFO : worker thread finished; awaiting finish of 10 more threads\n",
      "2019-11-08 10:28:07,891 : INFO : worker thread finished; awaiting finish of 9 more threads\n",
      "2019-11-08 10:28:07,914 : INFO : worker thread finished; awaiting finish of 8 more threads\n",
      "2019-11-08 10:28:07,923 : INFO : worker thread finished; awaiting finish of 7 more threads\n",
      "2019-11-08 10:28:07,942 : INFO : worker thread finished; awaiting finish of 6 more threads\n",
      "2019-11-08 10:28:07,945 : INFO : worker thread finished; awaiting finish of 5 more threads\n",
      "2019-11-08 10:28:07,957 : INFO : worker thread finished; awaiting finish of 4 more threads\n",
      "2019-11-08 10:28:07,962 : INFO : worker thread finished; awaiting finish of 3 more threads\n",
      "2019-11-08 10:28:07,965 : INFO : worker thread finished; awaiting finish of 2 more threads\n",
      "2019-11-08 10:28:07,970 : INFO : worker thread finished; awaiting finish of 1 more threads\n",
      "2019-11-08 10:28:07,980 : INFO : worker thread finished; awaiting finish of 0 more threads\n",
      "2019-11-08 10:28:07,981 : INFO : EPOCH - 4 : training on 1818103 raw words (1404519 effective words) took 2.5s, 557279 effective words/s\n",
      "2019-11-08 10:28:09,028 : INFO : EPOCH 5 - PROGRESS: at 38.99% words, 531125 words/s, in_qsize 23, out_qsize 0\n",
      "2019-11-08 10:28:10,036 : INFO : EPOCH 5 - PROGRESS: at 78.54% words, 541277 words/s, in_qsize 23, out_qsize 0\n",
      "2019-11-08 10:28:10,400 : INFO : worker thread finished; awaiting finish of 11 more threads\n",
      "2019-11-08 10:28:10,409 : INFO : worker thread finished; awaiting finish of 10 more threads\n",
      "2019-11-08 10:28:10,413 : INFO : worker thread finished; awaiting finish of 9 more threads\n",
      "2019-11-08 10:28:10,449 : INFO : worker thread finished; awaiting finish of 8 more threads\n",
      "2019-11-08 10:28:10,458 : INFO : worker thread finished; awaiting finish of 7 more threads\n",
      "2019-11-08 10:28:10,462 : INFO : worker thread finished; awaiting finish of 6 more threads\n",
      "2019-11-08 10:28:10,463 : INFO : worker thread finished; awaiting finish of 5 more threads\n",
      "2019-11-08 10:28:10,466 : INFO : worker thread finished; awaiting finish of 4 more threads\n",
      "2019-11-08 10:28:10,476 : INFO : worker thread finished; awaiting finish of 3 more threads\n",
      "2019-11-08 10:28:10,478 : INFO : worker thread finished; awaiting finish of 2 more threads\n",
      "2019-11-08 10:28:10,489 : INFO : worker thread finished; awaiting finish of 1 more threads\n",
      "2019-11-08 10:28:10,497 : INFO : worker thread finished; awaiting finish of 0 more threads\n",
      "2019-11-08 10:28:10,498 : INFO : EPOCH - 5 : training on 1818103 raw words (1404741 effective words) took 2.5s, 561380 effective words/s\n",
      "2019-11-08 10:28:10,499 : INFO : training on a 9090515 raw words (7022029 effective words) took 12.6s, 557078 effective words/s\n"
     ]
    },
    {
     "data": {
      "text/plain": [
       "(7022029, 9090515)"
      ]
     },
     "execution_count": 46,
     "metadata": {},
     "output_type": "execute_result"
    }
   ],
   "source": [
    "thrones2vec.train(sentences, total_words=thrones2vec.corpus_total_words, epochs=thrones2vec.epochs)"
   ]
  },
  {
   "cell_type": "markdown",
   "metadata": {},
   "source": [
    "**Save to file, can be useful later**"
   ]
  },
  {
   "cell_type": "code",
   "execution_count": 47,
   "metadata": {},
   "outputs": [],
   "source": [
    "if not os.path.exists(\"trained\"):\n",
    "    os.makedirs(\"trained\")"
   ]
  },
  {
   "cell_type": "code",
   "execution_count": 48,
   "metadata": {},
   "outputs": [
    {
     "name": "stderr",
     "output_type": "stream",
     "text": [
      "2019-11-08 10:28:10,520 : INFO : saving Word2Vec object under trained\\thrones2vec.w2v, separately None\n",
      "2019-11-08 10:28:10,521 : INFO : not storing attribute vectors_norm\n",
      "2019-11-08 10:28:10,522 : INFO : not storing attribute cum_table\n",
      "2019-11-08 10:28:10,928 : INFO : saved trained\\thrones2vec.w2v\n"
     ]
    }
   ],
   "source": [
    "thrones2vec.save(os.path.join(\"trained\", \"thrones2vec.w2v\"))"
   ]
  },
  {
   "cell_type": "markdown",
   "metadata": {},
   "source": [
    "## Explore the trained model."
   ]
  },
  {
   "cell_type": "code",
   "execution_count": 49,
   "metadata": {},
   "outputs": [
    {
     "name": "stderr",
     "output_type": "stream",
     "text": [
      "2019-11-08 10:28:10,934 : INFO : loading Word2Vec object from trained\\thrones2vec.w2v\n",
      "2019-11-08 10:28:11,253 : INFO : loading wv recursively from trained\\thrones2vec.w2v.wv.* with mmap=None\n",
      "2019-11-08 10:28:11,254 : INFO : setting ignored attribute vectors_norm to None\n",
      "2019-11-08 10:28:11,254 : INFO : loading vocabulary recursively from trained\\thrones2vec.w2v.vocabulary.* with mmap=None\n",
      "2019-11-08 10:28:11,255 : INFO : loading trainables recursively from trained\\thrones2vec.w2v.trainables.* with mmap=None\n",
      "2019-11-08 10:28:11,256 : INFO : setting ignored attribute cum_table to None\n",
      "2019-11-08 10:28:11,257 : INFO : loaded trained\\thrones2vec.w2v\n"
     ]
    }
   ],
   "source": [
    "thrones2vec = w2v.Word2Vec.load(os.path.join(\"trained\", \"thrones2vec.w2v\"))"
   ]
  },
  {
   "cell_type": "markdown",
   "metadata": {},
   "source": [
    "### Compress the word vectors into 2D space and plot them"
   ]
  },
  {
   "cell_type": "code",
   "execution_count": 50,
   "metadata": {
    "scrolled": false
   },
   "outputs": [
    {
     "name": "stderr",
     "output_type": "stream",
     "text": [
      "C:\\Users\\lucar\\Anaconda3\\lib\\site-packages\\ipykernel_launcher.py:4: DeprecationWarning: Call to deprecated `__getitem__` (Method will be removed in 4.0.0, use self.wv.__getitem__() instead).\n",
      "  after removing the cwd from sys.path.\n"
     ]
    }
   ],
   "source": [
    "labels = []\n",
    "count = 0\n",
    "maxcount = 50\n",
    "X = np.zeros(shape=(maxcount,len(thrones2vec['Stark'])))"
   ]
  },
  {
   "cell_type": "code",
   "execution_count": 51,
   "metadata": {},
   "outputs": [
    {
     "name": "stderr",
     "output_type": "stream",
     "text": [
      "2019-11-08 10:28:11,323 : INFO : precomputing L2-norms of word weight vectors\n"
     ]
    },
    {
     "name": "stdout",
     "output_type": "stream",
     "text": [
      "['temper', 'unfortunate', 'assassin', 'washerwoman', 'thrall', 'flaying', 'potion', 'quarrel', 'pet', 'purse', 'killer', 'slight', 'sot', 'omen', 'kingly', 'punishment', 'catspaw', 'razor', 'brigand', 'stroke', 'ass', 'measure', 'burden', 'penny', 'outrage', 'rout', 'longbow', 'tool', 'noose', 'appetite', 'fortune', 'apology', 'childish', 'reassuring', 'groom', 'nasty', 'garment', 'handled', 'advantage', 'mess', 'peevish', 'questioning', 'swimmer', 'deserter', 'coward', 'office', 'oaf', 'job', 'slays', 'unsheathed']\n"
     ]
    }
   ],
   "source": [
    "samples = [i[0] for i in thrones2vec.wv.most_similar(positive=[\"weapon\"], topn=50)]\n",
    "print(samples)"
   ]
  },
  {
   "cell_type": "code",
   "execution_count": 52,
   "metadata": {},
   "outputs": [
    {
     "name": "stderr",
     "output_type": "stream",
     "text": [
      "C:\\Users\\lucar\\Anaconda3\\lib\\site-packages\\ipykernel_launcher.py:2: DeprecationWarning: Call to deprecated `__getitem__` (Method will be removed in 4.0.0, use self.wv.__getitem__() instead).\n",
      "  \n"
     ]
    }
   ],
   "source": [
    "for term in samples:\n",
    "    X[count] = thrones2vec[term]\n",
    "    labels.append(term)\n",
    "    count+=1\n",
    "    if count >= maxcount: break"
   ]
  },
  {
   "cell_type": "code",
   "execution_count": 53,
   "metadata": {},
   "outputs": [],
   "source": [
    "from sklearn.decomposition import PCA\n",
    "\n",
    "pca = PCA(n_components=50)\n",
    "X_50 = pca.fit_transform(X)"
   ]
  },
  {
   "cell_type": "code",
   "execution_count": 54,
   "metadata": {},
   "outputs": [],
   "source": [
    "from sklearn.manifold import TSNE\n",
    "\n",
    "model_tsne = TSNE(n_components=2, random_state=0)\n",
    "Y = model_tsne.fit_transform(X_50)"
   ]
  },
  {
   "cell_type": "code",
   "execution_count": 55,
   "metadata": {},
   "outputs": [
    {
     "name": "stdout",
     "output_type": "stream",
     "text": [
      "Wörter / Features (Dimensionen)\n",
      "(50, 200)\n",
      "(50, 50)\n",
      "(50, 2)\n"
     ]
    }
   ],
   "source": [
    "print('Wörter / Features (Dimensionen)')\n",
    "print(X.shape)\n",
    "print(X_50.shape)\n",
    "print(Y.shape)"
   ]
  },
  {
   "cell_type": "code",
   "execution_count": 56,
   "metadata": {},
   "outputs": [
    {
     "data": {
      "image/png": "[encoded data removed]",
      "text/plain": [
       "<Figure size 432x288 with 1 Axes>"
      ]
     },
     "metadata": {
      "needs_background": "light"
     },
     "output_type": "display_data"
    }
   ],
   "source": [
    "plt.scatter(Y[:,0], Y[:,1], 20)\n",
    "for label, x, y in zip(labels, Y[:,0], Y[:,1]):\n",
    "    plt.annotate(label, xy = (x,y), xytext = (0,0), textcoords = 'offset points', size = 10)"
   ]
  }
 ],
 "metadata": {
  "kernelspec": {
   "display_name": "Python 3",
   "language": "python",
   "name": "python3"
  },
  "language_info": {
   "codemirror_mode": {
    "name": "ipython",
    "version": 3
   },
   "file_extension": ".py",
   "mimetype": "text/x-python",
   "name": "python",
   "nbconvert_exporter": "python",
   "pygments_lexer": "ipython3",
   "version": "3.7.0"
  }
 },
 "nbformat": 4,
 "nbformat_minor": 1
}
